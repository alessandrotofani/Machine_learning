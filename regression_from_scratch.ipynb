{
 "cells": [
  {
   "cell_type": "markdown",
   "metadata": {},
   "source": [
    "### Regression from sratch ###\n",
    "1. Write a python code using only numpy to impement a solution of \n",
    "\n",
    "$$ \\hat{\\beta} = (X^TX)^{-1}X^Ty $$\n",
    "\n",
    "2. compare with a simpler solution \n",
    "\n",
    "$$ \\hat{\\beta} = (X)^{-1}y $$\n",
    "\n",
    "3. implement a python code, using only numpy that uses a gradient descent to find the solution of the linear regression coefficient $\\beta$, using three different losses:\n",
    "\n",
    "   * $L_2 = \\frac{1}{N}\\sum_{i=1}^N (y_i -f(x_i))^2 $\n",
    "\n",
    "   * $L_1 = \\frac{1}{N}\\sum_{i=1}^N | y_i -f(x_i)| $\n",
    "\n",
    "   * $L_{LC}= \\frac{1}{N}\\sum_{i=1}^N \\ln [ \\cosh (y_i -f(x_i)) ] $\n",
    "   \n",
    "   * Remember for the gradient descent:\n",
    "$$\n",
    "\\vec{\\beta}(i+1) = \\vec{\\beta}(i) - \\alpha\\cdot \\nabla_{\\vec{\\beta}}Loss(\\vec{\\beta}| Data) \\\\\n",
    "$$\n",
    "$\\vec{\\beta}$ is the vector of the coefficient (including the intercept)\n",
    "\n",
    "4. start considering a one-dimensional dataset provided to generate some outliers. \n",
    "Compare the different losses using both training and testing sets in different plots"
   ]
  },
  {
   "cell_type": "code",
   "execution_count": 1,
   "metadata": {},
   "outputs": [],
   "source": [
    "%matplotlib inline\n",
    "import numpy as np\n",
    "def mk_data(minR=-5,maxR=5, step=0.5, sigma=1):\n",
    "    a = -5.0\n",
    "    b = 3.0\n",
    "    x = np.arange(minR,maxR,0.1)\n",
    "    y = b*x + a + np.random.normal(0,sigma, len(x))\n",
    "    x = x + np.random.normal(0,sigma, len(x))\n",
    "    return  x, y\n",
    "def add_outliers(y,inc = 20.0):\n",
    "    idx = np.argsort(y)\n",
    "    y[idx[:2]] += inc\n",
    "    y[idx[-2:]] -= inc\n",
    "    return y\n",
    "s = 0.5\n",
    "XL, yL = mk_data(sigma=s) # training sets\n",
    "yL = add_outliers(yL)\n",
    "XT, yT = mk_data(minR=5,maxR=15, step=1, sigma=s)  # test sets"
   ]
  },
  {
   "cell_type": "code",
   "execution_count": 6,
   "metadata": {},
   "outputs": [
    {
     "data": {
      "text/plain": [
       "[<matplotlib.lines.Line2D at 0x213bfbf64c8>]"
      ]
     },
     "execution_count": 6,
     "metadata": {},
     "output_type": "execute_result"
    },
    {
     "data": {
      "image/png": "[encoded data removed]",
      "text/plain": [
       "<Figure size 432x288 with 1 Axes>"
      ]
     },
     "metadata": {
      "needs_background": "light"
     },
     "output_type": "display_data"
    }
   ],
   "source": [
    "## plot the data##\n",
    "import matplotlib.pyplot as plt\n",
    "plt.plot(XL,yL, 'bo')"
   ]
  },
  {
   "cell_type": "markdown",
   "metadata": {},
   "source": [
    "# Punto 1 "
   ]
  },
  {
   "cell_type": "code",
   "execution_count": 128,
   "metadata": {},
   "outputs": [],
   "source": [
    "X = XL.reshape(100,1);\n",
    "Xtest = XT.reshape(100,1);\n",
    "X;"
   ]
  },
  {
   "cell_type": "code",
   "execution_count": 129,
   "metadata": {},
   "outputs": [],
   "source": [
    "y = yL.reshape(100,1);\n",
    "ytest = yT.reshape(100,1)\n",
    "y;"
   ]
  },
  {
   "cell_type": "code",
   "execution_count": 157,
   "metadata": {},
   "outputs": [],
   "source": [
    "Xext = np.insert(X, 0, np.ones(X.shape[0]), axis = 1)\n",
    "Xtestext = np.insert(Xtest, 0, np.ones(X.shape[0]), axis = 1)"
   ]
  },
  {
   "cell_type": "code",
   "execution_count": 76,
   "metadata": {},
   "outputs": [],
   "source": [
    "# print(Xext)"
   ]
  },
  {
   "cell_type": "code",
   "execution_count": 73,
   "metadata": {},
   "outputs": [],
   "source": [
    "##  write the code ##\n",
    "beta = np.linalg.inv(Xext.transpose().dot(Xext)).dot(Xext.transpose()).dot(y)"
   ]
  },
  {
   "cell_type": "code",
   "execution_count": 86,
   "metadata": {},
   "outputs": [
    {
     "name": "stdout",
     "output_type": "stream",
     "text": [
      "[[-4.98524229]\n",
      " [ 2.4991662 ]]\n"
     ]
    }
   ],
   "source": [
    "print(beta)"
   ]
  },
  {
   "cell_type": "markdown",
   "metadata": {},
   "source": [
    "# Punto 2 "
   ]
  },
  {
   "cell_type": "code",
   "execution_count": 84,
   "metadata": {},
   "outputs": [],
   "source": [
    "beta1 = np.reciprocal(Xext).transpose().dot(y)"
   ]
  },
  {
   "cell_type": "code",
   "execution_count": 85,
   "metadata": {},
   "outputs": [
    {
     "name": "stdout",
     "output_type": "stream",
     "text": [
      "[[-513.43979205]\n",
      " [ 935.18111233]]\n"
     ]
    }
   ],
   "source": [
    "print(beta1)"
   ]
  },
  {
   "cell_type": "markdown",
   "metadata": {},
   "source": [
    "# Punto 3 "
   ]
  },
  {
   "cell_type": "markdown",
   "metadata": {},
   "source": [
    "Gradient descent per la Loss function L2"
   ]
  },
  {
   "cell_type": "code",
   "execution_count": 110,
   "metadata": {},
   "outputs": [
    {
     "name": "stdout",
     "output_type": "stream",
     "text": [
      "[[-4.98524229]\n",
      " [ 2.4991662 ]]\n"
     ]
    }
   ],
   "source": [
    "## funzione che implementa il gradient descent \n",
    "## l_rate: learning rate\n",
    "def GD_L2(x,y,steps,l_rate):\n",
    "    dim = x.shape[1] ## corrisponde al numero dei pesi, \n",
    "    ##1 è il bias e l'altro è associato alla x \n",
    "    beta = np.zeros(dim).reshape(dim,1)\n",
    "    for i in range(steps):\n",
    "        beta = beta - l_rate * (x.dot(beta) - y).transpose().dot(x).transpose()\n",
    "    return beta \n",
    "\n",
    "l_rate = 0.001\n",
    "steps = 1000\n",
    "# dim = Xext.shape\n",
    "beta_L2 = GD_L2(Xext,y,steps,l_rate)\n",
    "print(beta_L2)\n",
    "    \n",
    "    "
   ]
  },
  {
   "cell_type": "markdown",
   "metadata": {},
   "source": [
    "Gradient descent per la loss function L1"
   ]
  },
  {
   "cell_type": "code",
   "execution_count": 120,
   "metadata": {},
   "outputs": [
    {
     "name": "stdout",
     "output_type": "stream",
     "text": [
      "[[-4.89      ]\n",
      " [ 2.83291244]]\n"
     ]
    }
   ],
   "source": [
    "def GD_L1(x,y,steps,l_rate):\n",
    "    dim = x.shape[1] ## corrisponde al numero dei pesi, \n",
    "    ##1 è il bias e l'altro è associato alla x \n",
    "    beta = np.zeros(dim).reshape(dim,1)\n",
    "    \n",
    "    for i in range(steps):\n",
    "        beta = beta - l_rate * np.sign((x.dot(beta) - y)).transpose().dot(x).transpose()\n",
    "    return beta \n",
    "\n",
    "l_rate = 0.001\n",
    "steps = 1000\n",
    "# dim = Xext.shape\n",
    "beta_L1 = GD_L1(Xext,y,steps,l_rate)\n",
    "print(beta_L1)\n",
    "    "
   ]
  },
  {
   "cell_type": "markdown",
   "metadata": {},
   "source": [
    "Gradient descent per la loss function Llc"
   ]
  },
  {
   "cell_type": "code",
   "execution_count": 125,
   "metadata": {},
   "outputs": [
    {
     "name": "stdout",
     "output_type": "stream",
     "text": [
      "[[-4.94777289]\n",
      " [ 2.82966656]]\n"
     ]
    }
   ],
   "source": [
    "def GD_Llc(x,y,steps,l_rate):\n",
    "    dim = x.shape[1] ## corrisponde al numero dei pesi, \n",
    "    ##1 è il bias e l'altro è associato alla x \n",
    "    beta = np.zeros(dim).reshape(dim,1)\n",
    "    \n",
    "    for i in range(steps):\n",
    "        beta = beta - l_rate * np.tanh((x.dot(beta) - y)).transpose().dot(x).transpose()\n",
    "    return beta \n",
    "\n",
    "l_rate = 0.001\n",
    "steps = 1000\n",
    "# dim = Xext.shape\n",
    "beta_Llc = GD_Llc(Xext,y,steps,l_rate)\n",
    "print(beta_Llc)\n",
    "    "
   ]
  },
  {
   "cell_type": "markdown",
   "metadata": {},
   "source": [
    "# Punto 4"
   ]
  },
  {
   "cell_type": "markdown",
   "metadata": {},
   "source": [
    "Loss L2"
   ]
  },
  {
   "cell_type": "code",
   "execution_count": 141,
   "metadata": {},
   "outputs": [],
   "source": [
    "def L2(x, y, beta):\n",
    "    ## numero di dati \n",
    "    n = x.shape[0]\n",
    "    loss = (1 / n) * (y - x.dot(beta)).transpose().dot((y - x.dot(beta)))\n",
    "    return loss\n"
   ]
  },
  {
   "cell_type": "code",
   "execution_count": 160,
   "metadata": {},
   "outputs": [
    {
     "name": "stdout",
     "output_type": "stream",
     "text": [
      "[[14.56686188]]\n",
      "[[27.95734084]]\n"
     ]
    }
   ],
   "source": [
    "loss_L2_train = L2(Xext,y,beta_L2)\n",
    "loss_L2_test = L2(Xtestext,ytest,beta_L2)\n",
    "print(loss_L2_train)\n",
    "print(loss_L2_test)"
   ]
  },
  {
   "cell_type": "code",
   "execution_count": 161,
   "metadata": {},
   "outputs": [
    {
     "data": {
      "image/png": "[encoded data removed]",
      "text/plain": [
       "<Figure size 432x288 with 1 Axes>"
      ]
     },
     "metadata": {
      "needs_background": "light"
     },
     "output_type": "display_data"
    }
   ],
   "source": [
    "p_L2_train = plt.plot(XL,yL, 'bx')\n",
    "p_L2_train = plt.plot(XL,Xext.dot(beta_L2), 'r-')"
   ]
  },
  {
   "cell_type": "code",
   "execution_count": 162,
   "metadata": {},
   "outputs": [
    {
     "data": {
      "image/png": "[encoded data removed]",
      "text/plain": [
       "<Figure size 432x288 with 1 Axes>"
      ]
     },
     "metadata": {
      "needs_background": "light"
     },
     "output_type": "display_data"
    }
   ],
   "source": [
    "p_L2_test = plt.plot(XT,yT, 'bx')\n",
    "p_L2_test = plt.plot(XT,Xtestext.dot(beta_L2), 'r-')"
   ]
  },
  {
   "cell_type": "markdown",
   "metadata": {},
   "source": [
    "Loss L1"
   ]
  },
  {
   "cell_type": "code",
   "execution_count": 145,
   "metadata": {},
   "outputs": [],
   "source": [
    "def L1(x, y, beta):\n",
    "    ## numero di dati \n",
    "    n = x.shape[0]\n",
    "    loss = (1 / n) * np.sqrt((y - x.dot(beta)).transpose().dot((y - x.dot(beta))))\n",
    "    return loss\n"
   ]
  },
  {
   "cell_type": "code",
   "execution_count": 158,
   "metadata": {},
   "outputs": [
    {
     "name": "stdout",
     "output_type": "stream",
     "text": [
      "[[0.38166559]]\n",
      "[[0.52874702]]\n"
     ]
    }
   ],
   "source": [
    "loss_L1_train = L1(Xext,y,beta_L2)\n",
    "loss_L1_test = L1(Xtestext,ytest,beta_L2)\n",
    "print(loss_L1_train)\n",
    "print(loss_L1_test)"
   ]
  },
  {
   "cell_type": "code",
   "execution_count": 163,
   "metadata": {},
   "outputs": [
    {
     "data": {
      "image/png": "[encoded data removed]",
      "text/plain": [
       "<Figure size 432x288 with 1 Axes>"
      ]
     },
     "metadata": {
      "needs_background": "light"
     },
     "output_type": "display_data"
    }
   ],
   "source": [
    "p_L1_train = plt.plot(XL,yL, 'bx')\n",
    "p_L1_train = plt.plot(XL,Xext.dot(beta_L1), 'r-')"
   ]
  },
  {
   "cell_type": "code",
   "execution_count": 164,
   "metadata": {},
   "outputs": [
    {
     "data": {
      "image/png": "[encoded data removed]",
      "text/plain": [
       "<Figure size 432x288 with 1 Axes>"
      ]
     },
     "metadata": {
      "needs_background": "light"
     },
     "output_type": "display_data"
    }
   ],
   "source": [
    "p_L1_test = plt.plot(XT,yT, 'bx')\n",
    "p_L1_test = plt.plot(XT,Xtestext.dot(beta_L1), 'r-')"
   ]
  },
  {
   "cell_type": "markdown",
   "metadata": {},
   "source": [
    "Loss Llc"
   ]
  },
  {
   "cell_type": "code",
   "execution_count": 152,
   "metadata": {},
   "outputs": [],
   "source": [
    "def Llc(x, y, beta):\n",
    "    ## numero di dati \n",
    "    n = x.shape[0]\n",
    "    loss = (1 / n) * np.sum(np.log(np.cosh((y - x.dot(beta)))))\n",
    "                            \n",
    "    return loss\n"
   ]
  },
  {
   "cell_type": "code",
   "execution_count": 159,
   "metadata": {},
   "outputs": [
    {
     "name": "stdout",
     "output_type": "stream",
     "text": [
      "1.5828143396882342\n",
      "4.237246380242615\n"
     ]
    }
   ],
   "source": [
    "loss_Llc_train = Llc(Xext,y,beta_L2)\n",
    "loss_Llc_test = Llc(Xtestext,ytest,beta_L2)\n",
    "print(loss_Llc_train)\n",
    "print(loss_Llc_test)"
   ]
  },
  {
   "cell_type": "code",
   "execution_count": 165,
   "metadata": {},
   "outputs": [
    {
     "data": {
      "image/png": "[encoded data removed]",
      "text/plain": [
       "<Figure size 432x288 with 1 Axes>"
      ]
     },
     "metadata": {
      "needs_background": "light"
     },
     "output_type": "display_data"
    }
   ],
   "source": [
    "p_Llc_train = plt.plot(XL,yL, 'bx')\n",
    "p_Llc_train = plt.plot(XL,Xext.dot(beta_Llc), 'r-')"
   ]
  },
  {
   "cell_type": "code",
   "execution_count": 166,
   "metadata": {},
   "outputs": [
    {
     "data": {
      "image/png": "[encoded data removed]",
      "text/plain": [
       "<Figure size 432x288 with 1 Axes>"
      ]
     },
     "metadata": {
      "needs_background": "light"
     },
     "output_type": "display_data"
    }
   ],
   "source": [
    "p_Llc_test = plt.plot(XT,yT, 'bx')\n",
    "p_Llc_test = plt.plot(XT,Xtestext.dot(beta_Llc), 'r-')"
   ]
  },
  {
   "cell_type": "code",
   "execution_count": null,
   "metadata": {},
   "outputs": [],
   "source": []
  }
 ],
 "metadata": {
  "kernelspec": {
   "display_name": "Python 3",
   "language": "python",
   "name": "python3"
  },
  "language_info": {
   "codemirror_mode": {
    "name": "ipython",
    "version": 3
   },
   "file_extension": ".py",
   "mimetype": "text/x-python",
   "name": "python",
   "nbconvert_exporter": "python",
   "pygments_lexer": "ipython3",
   "version": "3.7.6"
  }
 },
 "nbformat": 4,
 "nbformat_minor": 2
}
